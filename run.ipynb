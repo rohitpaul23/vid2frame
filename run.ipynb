{
 "cells": [
  {
   "cell_type": "code",
   "execution_count": 1,
   "metadata": {},
   "outputs": [],
   "source": [
    "import matplotlib.pyplot as plt\n",
    "import cv2\n",
    "from getFrame import getFrame"
   ]
  },
  {
   "cell_type": "code",
   "execution_count": 2,
   "metadata": {},
   "outputs": [
    {
     "name": "stdout",
     "output_type": "stream",
     "text": [
      "Processing filename: vid/I.mp4\n",
      "Total frame : 369\n",
      "Processed frame 1/369\n",
      "Processed frame 101/369\n",
      "Processed frame 201/369\n",
      "Processed frame 301/369\n"
     ]
    }
   ],
   "source": [
    "getFrame('vid/I.mp4')"
   ]
  },
  {
   "cell_type": "code",
   "execution_count": 9,
   "metadata": {},
   "outputs": [
    {
     "name": "stdout",
     "output_type": "stream",
     "text": [
      "Processing filename: vid/I.mp4\n"
     ]
    }
   ],
   "source": [
    "getFrame('vid/I.mp4', manual=True, ms_per_frame=100)"
   ]
  },
  {
   "cell_type": "code",
   "execution_count": 6,
   "metadata": {},
   "outputs": [
    {
     "name": "stdout",
     "output_type": "stream",
     "text": [
      "usage: getFrame.py [-h] [--manual] [--start START] [--end END]\n",
      "                   [--dist_per_frame DIST_PER_FRAME] [--top_crop TOP_CROP]\n",
      "                   [--bottom_crop BOTTOM_CROP] [--left_crop LEFT_CROP]\n",
      "                   [--right_crop RIGHT_CROP] [--method METHOD]\n",
      "                   [--threshold THRESHOLD]\n",
      "                   input_file output_dir\n",
      "\n",
      "Get Desired Frame from a video\n",
      "\n",
      "positional arguments:\n",
      "  input_file            input video file path\n",
      "  output_dir            output directory to store the frame\n",
      "\n",
      "options:\n",
      "  -h, --help            show this help message and exit\n",
      "  --manual              Manually get frame\n",
      "  --start START         Starting point(in ms) from which frame will be\n",
      "                        acquired\n",
      "  --end END             Ending point(in ms) till which frame will be acquired\n",
      "  --dist_per_frame DIST_PER_FRAME\n",
      "                        Minimum distance(in ms) between per frame\n",
      "  --top_crop TOP_CROP   Pixel cropped from the Top\n",
      "  --bottom_crop BOTTOM_CROP\n",
      "                        Pixel cropped from the Bottom\n",
      "  --left_crop LEFT_CROP\n",
      "                        Pixel cropped from the Left\n",
      "  --right_crop RIGHT_CROP\n",
      "                        Pixel cropped from the Right\n",
      "  --method METHOD       Methods to be used for detecting blur in the frame.\n",
      "                        Choose between [NONE, TENANGRAD, LAPLACIAN, WAVELET]\n",
      "  --threshold THRESHOLD\n",
      "                        threshold value for identifying frame of some blurness\n",
      "                        value based on the method used\n"
     ]
    }
   ],
   "source": [
    "!python3 getFrame.py -h "
   ]
  },
  {
   "cell_type": "code",
   "execution_count": 7,
   "metadata": {},
   "outputs": [
    {
     "name": "stdout",
     "output_type": "stream",
     "text": [
      "Processing filename: vid/J.mp4\n",
      "Total frame : 349\n",
      "Processed frame 1/349\n",
      "Processed frame 101/349\n",
      "Processed frame 201/349\n",
      "Processed frame 301/349\n"
     ]
    }
   ],
   "source": [
    "!python3 getFrame.py vid/J.mp4 subject"
   ]
  },
  {
   "cell_type": "code",
   "execution_count": 8,
   "metadata": {},
   "outputs": [
    {
     "name": "stdout",
     "output_type": "stream",
     "text": [
      "Processing filename: vid/J.mp4\n"
     ]
    }
   ],
   "source": [
    "!python3 getFrame.py vid/J.mp4 subject --manual --dist_per_frame=250 --start=1000 --end=4000 --method=TENANGRAD"
   ]
  }
 ],
 "metadata": {
  "kernelspec": {
   "display_name": "Python 3",
   "language": "python",
   "name": "python3"
  },
  "language_info": {
   "codemirror_mode": {
    "name": "ipython",
    "version": 3
   },
   "file_extension": ".py",
   "mimetype": "text/x-python",
   "name": "python",
   "nbconvert_exporter": "python",
   "pygments_lexer": "ipython3",
   "version": "3.10.6"
  },
  "orig_nbformat": 4
 },
 "nbformat": 4,
 "nbformat_minor": 2
}
